{
  "nbformat": 4,
  "nbformat_minor": 0,
  "metadata": {
    "colab": {
      "provenance": [],
      "include_colab_link": true
    },
    "kernelspec": {
      "name": "python3",
      "display_name": "Python 3"
    },
    "language_info": {
      "name": "python"
    }
  },
  "cells": [
    {
      "cell_type": "markdown",
      "metadata": {
        "id": "view-in-github",
        "colab_type": "text"
      },
      "source": [
        "<a href=\"https://colab.research.google.com/github/Tdesius/ttnt/blob/ttnt/523H0136-lec05_BestFirstSearch_HW.ipynb\" target=\"_parent\"><img src=\"https://colab.research.google.com/assets/colab-badge.svg\" alt=\"Open In Colab\"/></a>"
      ]
    },
    {
      "cell_type": "markdown",
      "source": [
        "Students implement GBFS and A* algorithms following TODO 1 - 2. \\\n",
        "Students can add supporting attributes and methods to the two classes as needed."
      ],
      "metadata": {
        "id": "mm5b-FZhfA5H"
      }
    },
    {
      "cell_type": "code",
      "source": [
        "from google.colab import drive\n",
        "drive.mount('/content/drive')"
      ],
      "metadata": {
        "id": "nbvRTEtdB0kQ",
        "outputId": "7e4f9605-d478-416d-fb55-8af0dd0a8d96",
        "colab": {
          "base_uri": "https://localhost:8080/"
        }
      },
      "execution_count": 13,
      "outputs": [
        {
          "output_type": "stream",
          "name": "stdout",
          "text": [
            "Mounted at /content/drive\n"
          ]
        }
      ]
    },
    {
      "cell_type": "markdown",
      "source": [
        "# Libraries"
      ],
      "metadata": {
        "id": "9In-lpCRc7rc"
      }
    },
    {
      "cell_type": "code",
      "source": [
        "import os\n",
        "import heapq"
      ],
      "metadata": {
        "id": "baZnzmhNW8KU"
      },
      "execution_count": 2,
      "outputs": []
    },
    {
      "cell_type": "markdown",
      "source": [
        "# Graph class"
      ],
      "metadata": {
        "id": "Hm_qjIb4dB8a"
      }
    },
    {
      "cell_type": "code",
      "execution_count": 14,
      "metadata": {
        "id": "IBUbARThU6VK"
      },
      "outputs": [],
      "source": [
        "# Directed, weighted graphs\n",
        "class Graph:\n",
        "  def __init__(self):\n",
        "    self.AL = dict() # adjacency list\n",
        "    self.V = 0\n",
        "    self.E = 0\n",
        "    self.H = dict()\n",
        "\n",
        "  def __str__(self):\n",
        "    res = 'V: %d, E: %d\\n'%(self.V, self.E)\n",
        "    for u, neighbors in self.AL.items():\n",
        "      line = '%d: %s\\n'%(u, str(neighbors))\n",
        "      res += line\n",
        "    for u, h in self.H.items():\n",
        "      line = 'h(%d) = %d\\n'%(u, h)\n",
        "    return res\n",
        "\n",
        "  def print(self):\n",
        "    print(str(self))\n",
        "\n",
        "  def load_from_file(self, filename):\n",
        "    '''\n",
        "        Example input file:\n",
        "            V E\n",
        "            u v w\n",
        "            u v w\n",
        "            u v w\n",
        "            ...\n",
        "            u1 h1\n",
        "            u2 h2\n",
        "            u3 h3\n",
        "            ...\n",
        "\n",
        "        # input.txt\n",
        "        7 8\n",
        "        0 1 5\n",
        "        0 2 6\n",
        "        1 3 12\n",
        "        1 4 9\n",
        "        2 5 5\n",
        "        3 5 8\n",
        "        3 6 7\n",
        "        4 6 4\n",
        "        0 14\n",
        "        1 13\n",
        "        2 12\n",
        "        3 11\n",
        "        4 10\n",
        "        5 9\n",
        "        6 0\n",
        "    '''\n",
        "    if os.path.exists(filename):\n",
        "      with open(filename) as g:\n",
        "        self.V, self.E = [int(it) for it in g.readline().split()]\n",
        "        for i in range(self.E):\n",
        "          line = g.readline()\n",
        "          u, v, w = [int(it) for it in line.strip().split()]\n",
        "          if u not in self.AL:\n",
        "            self.AL[u] = []\n",
        "          self.AL[u].append((v, w))\n",
        "        for i in range(self.V):\n",
        "          line = g.readline()\n",
        "          u, h = [int(it) for it in line.strip().split()]\n",
        "          self.H[u] = h"
      ]
    },
    {
      "cell_type": "code",
      "source": [
        "g = Graph()\n",
        "g.load_from_file('/content/drive/MyDrive/input.txt')\n",
        "g.print()"
      ],
      "metadata": {
        "colab": {
          "base_uri": "https://localhost:8080/"
        },
        "id": "k_3EmSFKXtwk",
        "outputId": "0289c16a-99a1-4174-fdc8-70730be8a5e7"
      },
      "execution_count": 15,
      "outputs": [
        {
          "output_type": "stream",
          "name": "stdout",
          "text": [
            "V: 7, E: 8\n",
            "0: [(1, 5), (2, 6)]\n",
            "1: [(3, 12), (4, 9)]\n",
            "2: [(5, 5)]\n",
            "3: [(5, 8), (6, 7)]\n",
            "4: [(6, 4)]\n",
            "\n"
          ]
        }
      ]
    },
    {
      "cell_type": "markdown",
      "source": [
        "# Search Strategies"
      ],
      "metadata": {
        "id": "95fgste5dFp0"
      }
    },
    {
      "cell_type": "code",
      "source": [
        "class BestSearchStrategy:\n",
        "  def search(self, g: Graph, src: int, dst: int) -> tuple:\n",
        "    expanded = [] # list of expanded vertices in the traversal order\n",
        "    path = [] # path from src to dst\n",
        "    return expanded, path\n",
        "\n",
        "  def reconstruct_path(self, dst, parent):\n",
        "    path = []\n",
        "    if dst in parent:\n",
        "        while dst is not None:\n",
        "            path.insert(0, dst)\n",
        "            dst = parent[dst]\n",
        "    return path"
      ],
      "metadata": {
        "id": "DjEuaXToYqk6"
      },
      "execution_count": 5,
      "outputs": []
    },
    {
      "cell_type": "code",
      "source": [
        "class GBFS(BestSearchStrategy):\n",
        "  def search(self, g: Graph, src: int, dst: int) -> tuple:\n",
        "    expanded = [] # list of expanded vertices in the traversal order\n",
        "    path = [] # path from src to dst\n",
        "    frontier = [(g.H[src], src)]\n",
        "    parent = {src: None}\n",
        "    explored = set()\n",
        "    # TODO 1\n",
        "    while frontier:\n",
        "      abc, node = heapq.heappop(frontier)\n",
        "\n",
        "      if node == dst:\n",
        "        break\n",
        "\n",
        "      expanded.append(node)\n",
        "      explored.add(node)\n",
        "\n",
        "      for neighbor, _ in g.AL.get(node, []):\n",
        "        if neighbor not in explored:\n",
        "          heapq.heappush(frontier, (g.H[neighbor], neighbor))\n",
        "          parent[neighbor] = node\n",
        "\n",
        "    return expanded, self.reconstruct_path(dst, parent)"
      ],
      "metadata": {
        "id": "Iax-_lNJZcQc"
      },
      "execution_count": 17,
      "outputs": []
    },
    {
      "cell_type": "code",
      "source": [
        "class AStar(BestSearchStrategy):\n",
        "  def search(self, g: Graph, src: int, dst: int) -> tuple:\n",
        "    expanded = [] # list of expanded vertices in the traversal order\n",
        "    path = [] # path from src to dst\n",
        "    frontier = [(g.H[src], 0, src)]\n",
        "    explored = {src: 0}\n",
        "    parent = {src: None}\n",
        "\n",
        "    # TODO 2\n",
        "\n",
        "    while frontier:\n",
        "      abc, cost, node = heapq.heappop(frontier)\n",
        "\n",
        "      if node == dst:\n",
        "        break\n",
        "\n",
        "      expanded.append(node)\n",
        "\n",
        "      for neighbor, weight in g.AL.get(node, []):\n",
        "        new_cost = cost + weight\n",
        "        f_cost = new_cost + g.H[neighbor]\n",
        "\n",
        "        if neighbor not in explored or new_cost < explored[neighbor]:\n",
        "          explored[neighbor] = new_cost\n",
        "          parent[neighbor] = node\n",
        "          heapq.heappush(frontier, (f_cost, new_cost, neighbor))\n",
        "\n",
        "    return expanded, self.reconstruct_path(dst, parent)"
      ],
      "metadata": {
        "id": "nMO61eRTZrRS"
      },
      "execution_count": 18,
      "outputs": []
    },
    {
      "cell_type": "markdown",
      "source": [
        "# Evaluation"
      ],
      "metadata": {
        "id": "hzWhWbDMdItW"
      }
    },
    {
      "cell_type": "code",
      "source": [
        "gbfs = GBFS()\n",
        "astar = AStar()\n",
        "\n",
        "for stg in [gbfs, astar]:\n",
        "  print(stg)\n",
        "  expanded, path = stg.search(g, 0, g.V-1)\n",
        "  print(expanded)\n",
        "  print(path)"
      ],
      "metadata": {
        "colab": {
          "base_uri": "https://localhost:8080/"
        },
        "id": "kI0wFSGuaKeT",
        "outputId": "c34fd2d2-85cd-4658-938d-5fb7680908e6"
      },
      "execution_count": 19,
      "outputs": [
        {
          "output_type": "stream",
          "name": "stdout",
          "text": [
            "<__main__.GBFS object at 0x7b7fe86d54d0>\n",
            "[0, 2, 5, 1, 4]\n",
            "[0, 1, 4, 6]\n",
            "<__main__.AStar object at 0x7b7fe8796650>\n",
            "[0, 1, 2, 5, 4]\n",
            "[0, 1, 4, 6]\n"
          ]
        }
      ]
    },
    {
      "cell_type": "markdown",
      "source": [
        "# Submission\n",
        "\n",
        "*   Students download the notebook after completion\n",
        "*   Rename the notebook in which inserting your student ID at the beginning. \\\n",
        "For example, **123456-lec05-BestFirstSearch-HW.ipynb**\n",
        "*   Finally, submit the file"
      ],
      "metadata": {
        "id": "95erCQsOdTfL"
      }
    }
  ]
}
