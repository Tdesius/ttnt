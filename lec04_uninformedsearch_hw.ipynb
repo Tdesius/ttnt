{
  "nbformat": 4,
  "nbformat_minor": 0,
  "metadata": {
    "colab": {
      "provenance": [],
      "include_colab_link": true
    },
    "kernelspec": {
      "name": "python3",
      "display_name": "Python 3"
    },
    "language_info": {
      "name": "python"
    }
  },
  "cells": [
    {
      "cell_type": "markdown",
      "metadata": {
        "id": "view-in-github",
        "colab_type": "text"
      },
      "source": [
        "<a href=\"https://colab.research.google.com/github/Tdesius/ttnt/blob/main/lec04_uninformedsearch_hw.ipynb\" target=\"_parent\"><img src=\"https://colab.research.google.com/assets/colab-badge.svg\" alt=\"Open In Colab\"/></a>"
      ]
    },
    {
      "cell_type": "markdown",
      "source": [
        "Students refer to pseudo codes of BFS, DFS, UCS, DLS, and IDS in [this link](https://drive.google.com/file/d/1q2LtrRCfemfiqyhfxNMcVJ3alvLh_pdV/view?usp=share_link) to implement the corresponding classes in TODO 1 - 5. \\\n",
        "Students can add supporting attributes and methods to the five classes of search strategies as needed."
      ],
      "metadata": {
        "id": "mm5b-FZhfA5H"
      }
    },
    {
      "cell_type": "markdown",
      "source": [
        "# Libraries"
      ],
      "metadata": {
        "id": "9In-lpCRc7rc"
      }
    },
    {
      "cell_type": "code",
      "source": [
        "from google.colab import drive\n",
        "drive.mount('/content/drive')"
      ],
      "metadata": {
        "id": "jFxwotr5Az6-",
        "outputId": "e8b4f643-3996-4882-8846-d33dc8634d9a",
        "colab": {
          "base_uri": "https://localhost:8080/"
        }
      },
      "execution_count": 11,
      "outputs": [
        {
          "output_type": "stream",
          "name": "stdout",
          "text": [
            "Drive already mounted at /content/drive; to attempt to forcibly remount, call drive.mount(\"/content/drive\", force_remount=True).\n"
          ]
        }
      ]
    },
    {
      "cell_type": "code",
      "source": [
        "import os\n",
        "import heapq"
      ],
      "metadata": {
        "id": "baZnzmhNW8KU"
      },
      "execution_count": 12,
      "outputs": []
    },
    {
      "cell_type": "markdown",
      "source": [
        "# Graph class"
      ],
      "metadata": {
        "id": "Hm_qjIb4dB8a"
      }
    },
    {
      "cell_type": "code",
      "execution_count": 13,
      "metadata": {
        "id": "IBUbARThU6VK"
      },
      "outputs": [],
      "source": [
        "# Directed, weighted graphs\n",
        "class Graph:\n",
        "  def __init__(self):\n",
        "    self.AL = dict() # adjacency list\n",
        "    self.V = 0\n",
        "    self.E = 0\n",
        "\n",
        "  def __str__(self):\n",
        "    res = 'V: %d, E: %d\\n'%(self.V, self.E)\n",
        "    for u, neighbors in self.AL.items():\n",
        "      line = '%d: %s\\n'%(u, str(neighbors))\n",
        "      res += line\n",
        "    return res\n",
        "\n",
        "  def print(self):\n",
        "    print(str(self))\n",
        "\n",
        "  def load_from_file(self, filename):\n",
        "    '''\n",
        "        Example input file:\n",
        "            V E\n",
        "            u v w\n",
        "            u v w\n",
        "            u v w\n",
        "            ...\n",
        "\n",
        "        # input.txt\n",
        "        7 8\n",
        "        0 1 5\n",
        "        0 2 6\n",
        "        1 3 12\n",
        "        1 4 9\n",
        "        2 5 5\n",
        "        3 5 8\n",
        "        3 6 7\n",
        "        4 6 4\n",
        "    '''\n",
        "    if os.path.exists(filename):\n",
        "      with open(filename) as g:\n",
        "        self.V, self.E = [int(it) for it in g.readline().split()]\n",
        "        for line in g:\n",
        "          u, v, w = [int(it) for it in line.strip().split()]\n",
        "          if u not in self.AL:\n",
        "            self.AL[u] = []\n",
        "          self.AL[u].append((v, w))"
      ]
    },
    {
      "cell_type": "code",
      "source": [
        "g = Graph()\n",
        "g.load_from_file('/content/drive/MyDrive/input.txt')\n",
        "g.print()"
      ],
      "metadata": {
        "colab": {
          "base_uri": "https://localhost:8080/"
        },
        "id": "k_3EmSFKXtwk",
        "outputId": "09a47274-f13a-4d0a-d8d9-4b9973812abb"
      },
      "execution_count": 14,
      "outputs": [
        {
          "output_type": "stream",
          "name": "stdout",
          "text": [
            "V: 7, E: 8\n",
            "0: [(1, 5), (2, 6)]\n",
            "1: [(3, 12), (4, 9)]\n",
            "2: [(5, 5)]\n",
            "3: [(5, 8), (6, 7)]\n",
            "4: [(6, 4)]\n",
            "\n"
          ]
        }
      ]
    },
    {
      "cell_type": "markdown",
      "source": [
        "# Search Strategies"
      ],
      "metadata": {
        "id": "95fgste5dFp0"
      }
    },
    {
      "cell_type": "code",
      "source": [
        "class SearchStrategy:\n",
        "  def search(self, g: Graph, src: int, dst: int) -> tuple:\n",
        "    expanded = [] # list of expanded vertices in the traversal order\n",
        "    path = [] # path from src to dst\n",
        "    return expanded, path\n",
        "\n",
        "  def reconstruct_path(self, dst, parent):\n",
        "    path = []\n",
        "    if dst in parent:\n",
        "        while dst is not None:\n",
        "            path.insert(0, dst)\n",
        "            dst = parent[dst]\n",
        "    return path"
      ],
      "metadata": {
        "id": "DjEuaXToYqk6"
      },
      "execution_count": 15,
      "outputs": []
    },
    {
      "cell_type": "code",
      "source": [
        "class BFS(SearchStrategy):\n",
        "  def search(self, g: Graph, src: int, dst: int) -> tuple:\n",
        "    expanded = [] # list of expanded vertices in the traversal order\n",
        "    path = [] # path from src to dst\n",
        "    frontier = [src]\n",
        "    explored = set()\n",
        "    parent = {src: None}\n",
        "    # TODO 1\n",
        "    while frontier:\n",
        "      node = frontier.pop(0)\n",
        "      expanded.append(node)\n",
        "      if node == dst:\n",
        "        break\n",
        "      explored.add(node)\n",
        "      for neighbor, _ in g.AL.get(node, []):\n",
        "        if neighbor not in explored and neighbor not in frontier:\n",
        "          parent[neighbor] = node\n",
        "          frontier.append(neighbor)\n",
        "\n",
        "    return expanded, self.reconstruct_path(dst, parent)"
      ],
      "metadata": {
        "id": "Iax-_lNJZcQc"
      },
      "execution_count": 16,
      "outputs": []
    },
    {
      "cell_type": "code",
      "source": [
        "class DFS(SearchStrategy):\n",
        "  def search(self, g: Graph, src: int, dst: int) -> tuple:\n",
        "    expanded = [] # list of expanded vertices in the traversal order\n",
        "    path = [] # path from src to dst\n",
        "    frontier =[src]\n",
        "    explored = set()\n",
        "    parent = {src: None}\n",
        "    # TODO 2\n",
        "    while frontier:\n",
        "      node = frontier.pop()\n",
        "      if node in explored:\n",
        "        continue\n",
        "      expanded.append(node)\n",
        "      explored.add(node)\n",
        "      if node == dst:\n",
        "        break\n",
        "      for neighbor, _ in reversed(g.AL.get(node, [])):\n",
        "        if neighbor not in explored:\n",
        "          parent[neighbor] = node\n",
        "          frontier.append(neighbor)\n",
        "\n",
        "    return expanded, self.reconstruct_path(dst, parent)"
      ],
      "metadata": {
        "id": "nMO61eRTZrRS"
      },
      "execution_count": 17,
      "outputs": []
    },
    {
      "cell_type": "code",
      "source": [
        "class UCS(SearchStrategy):\n",
        "  def search(self, g: Graph, src: int, dst: int) -> tuple:\n",
        "    expanded = [] # list of expanded vertices in the traversal order\n",
        "    path = [] # path from src to dst\n",
        "    frontier = [(0, src)]\n",
        "    explored = set()\n",
        "    parent = {src: None}\n",
        "    # TODO 3\n",
        "    while frontier:\n",
        "      cost, node = heapq.heappop(frontier)\n",
        "      if node in explored:\n",
        "        continue\n",
        "        expanded.append(node)\n",
        "        explored[node] = cost\n",
        "        if node == dst:\n",
        "          break\n",
        "        for neighbor, weight in g.AL.get(node, []):\n",
        "          new_cost = cost + weight\n",
        "          if neighbor not in explored or new_cost < explored[neighbor]:\n",
        "            parent[neighbor] = node\n",
        "            heapq.heappush(froniter, (new_cost,neighbor))\n",
        "\n",
        "    return expanded, self.reconstruct_path(dst, parent)"
      ],
      "metadata": {
        "id": "xp3Vi2j5Zr00"
      },
      "execution_count": 18,
      "outputs": []
    },
    {
      "cell_type": "code",
      "source": [
        "class DLS(SearchStrategy):\n",
        "  def __init__(self, LIM: int):\n",
        "    self.LIM = LIM\n",
        "\n",
        "  def search(self, g: Graph, src: int, dst: int) -> tuple:\n",
        "    expanded = [] # list of expanded vertices in the traversal order\n",
        "    path = [] # path from src to dst\n",
        "    parent = {src: None}\n",
        "    # TODO 4\n",
        "    def recursive_dls(node, depth, parent):\n",
        "        if depth > self.LIM:\n",
        "          return False\n",
        "        expanded.append(node)\n",
        "        if node == dst:\n",
        "          return True\n",
        "        for neighbor, _ in g.AL.get(node, []):\n",
        "          if neighbor not in parent:\n",
        "            parent[neighbor] = node\n",
        "            if recursive_dls(neighbor, depth + 1, parent):\n",
        "              return True\n",
        "        return False\n",
        "\n",
        "    if recursive_dls(src, 0, parent):\n",
        "      path = self.reconstruct_path(dst, parent)\n",
        "\n",
        "    return expanded, path"
      ],
      "metadata": {
        "id": "akqnRp04Zsbt",
        "outputId": "45c64001-b0bd-4d48-b208-6d02e9bac98c",
        "colab": {
          "base_uri": "https://localhost:8080/",
          "height": 108
        }
      },
      "execution_count": 19,
      "outputs": [
        {
          "output_type": "error",
          "ename": "IndentationError",
          "evalue": "unexpected indent (<ipython-input-19-b63335492736>, line 10)",
          "traceback": [
            "\u001b[0;36m  File \u001b[0;32m\"<ipython-input-19-b63335492736>\"\u001b[0;36m, line \u001b[0;32m10\u001b[0m\n\u001b[0;31m    def recursive_dls(node, depth, parent):\u001b[0m\n\u001b[0m    ^\u001b[0m\n\u001b[0;31mIndentationError\u001b[0m\u001b[0;31m:\u001b[0m unexpected indent\n"
          ]
        }
      ]
    },
    {
      "cell_type": "code",
      "source": [
        "class IDS(SearchStrategy):\n",
        "  def __init__(self, MAX_LIM: int):\n",
        "    self.MAX_LIM = MAX_LIM\n",
        "\n",
        "  def search(self, g: Graph, src: int, dst: int) -> tuple:\n",
        "    expanded = [] # list of expanded vertices in the traversal order\n",
        "    path = [] # path from src to dst\n",
        "\n",
        "    # TODO 5\n",
        "    for depth in range(self.MAX_LIM + 1):\n",
        "      dls = DLS(depth)\n",
        "      expanded, path = dls.search(g, src, dst)\n",
        "      if path:\n",
        "        return expanded, path\n",
        "    return [], []"
      ],
      "metadata": {
        "id": "os7VMwXIZ4f2"
      },
      "execution_count": null,
      "outputs": []
    },
    {
      "cell_type": "markdown",
      "source": [
        "# Evaluation"
      ],
      "metadata": {
        "id": "hzWhWbDMdItW"
      }
    },
    {
      "cell_type": "code",
      "source": [
        "bfs = BFS()\n",
        "dfs = DFS()\n",
        "ucs = UCS()\n",
        "dls = DLS(LIM=3)\n",
        "ids = IDS(MAX_LIM=5)\n",
        "\n",
        "for stg in [bfs, dfs, ucs, dls, ids]:\n",
        "  print(stg)\n",
        "  expanded, path = stg.search(g, 0, g.V-1)\n",
        "  print(expanded)\n",
        "  print(path)\n",
        "\n",
        "\n"
      ],
      "metadata": {
        "id": "kI0wFSGuaKeT"
      },
      "execution_count": null,
      "outputs": []
    },
    {
      "cell_type": "markdown",
      "source": [
        "# Submission"
      ],
      "metadata": {
        "id": "v_juZ-dPUlpP"
      }
    },
    {
      "cell_type": "markdown",
      "source": [
        "*   Students download the notebook after completion\n",
        "*   Rename the notebook in which inserting your student ID at the beginning. \\\n",
        "For example, **123456-lec04-UninformedSearch-HW.ipynb**\n",
        "*   Finally, submit the file\n",
        "\n"
      ],
      "metadata": {
        "id": "svA6tZBfUmt_"
      }
    }
  ]
}